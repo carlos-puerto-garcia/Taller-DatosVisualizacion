{
 "cells": [
  {
   "cell_type": "markdown",
   "metadata": {},
   "source": [
    "# ESTADÍSTICA DESCRIPTIVA"
   ]
  },
  {
   "cell_type": "code",
   "execution_count": 1,
   "metadata": {
    "collapsed": true
   },
   "outputs": [],
   "source": [
    "%matplotlib inline\n",
    "from datetime import datetime\n",
    "import matplotlib.pyplot as plt\n",
    "import pandas as pd\n",
    "import numpy as np\n",
    "\n",
    "# Manejo de datos.\n",
    "sismos = pd.read_html('sismos.xls', header=9)\n",
    "sismos = sismos[0]\n",
    "sismos = sismos.rename(columns={'Fecha aaaa/mm/dd':'Fecha', \n",
    "                                'Hora UTChh:mm:ss':'Hora',                      \n",
    "                                'LatitudGrados':'qlat',\n",
    "                                'LongitudGrados':'qlon',\n",
    "                                'ProfundidadKm':'qdepth',\n",
    "                                'MagnitudMl':'Ml',\n",
    "                                'MagnitudMw':'Mw'})\n",
    "fechas=[]\n",
    "years=[]\n",
    "meses=[]\n",
    "for i in range(len(sismos)):\n",
    "    fecha = sismos['Fecha'][i]+' '+sismos['Hora'][i]\n",
    "    fechas.append(datetime.strptime(fecha,\"%Y-%m-%d %H:%M:%S\"))\n",
    "    years.append(fechas[-1].year)\n",
    "    meses.append(fechas[-1].month)\n",
    "sismos['fechas']=fechas\n",
    "sismos['years']=years\n",
    "sismos['mes']=meses"
   ]
  },
  {
   "cell_type": "code",
   "execution_count": 2,
   "metadata": {},
   "outputs": [
    {
     "name": "stdout",
     "output_type": "stream",
     "text": [
      "El numero de sismos con magnitud mayor a 4.0 registrados es: 2773\n"
     ]
    }
   ],
   "source": [
    "print (\"El numero de sismos con magnitud mayor a 4.0 registrados es:\", len(sismos))"
   ]
  },
  {
   "cell_type": "markdown",
   "metadata": {},
   "source": [
    "### En la siguiente tabla, se observa un análisis amplio, especialmente sobre la latitud, longitud, profundidad y magnitud de los sismos en Colombia desde 1993."
   ]
  },
  {
   "cell_type": "code",
   "execution_count": 3,
   "metadata": {},
   "outputs": [
    {
     "data": {
      "text/html": [
       "<div>\n",
       "<style>\n",
       "    .dataframe thead tr:only-child th {\n",
       "        text-align: right;\n",
       "    }\n",
       "\n",
       "    .dataframe thead th {\n",
       "        text-align: left;\n",
       "    }\n",
       "\n",
       "    .dataframe tbody tr th {\n",
       "        vertical-align: top;\n",
       "    }\n",
       "</style>\n",
       "<table border=\"1\" class=\"dataframe\">\n",
       "  <thead>\n",
       "    <tr style=\"text-align: right;\">\n",
       "      <th></th>\n",
       "      <th>qlat</th>\n",
       "      <th>qlon</th>\n",
       "      <th>qdepth</th>\n",
       "      <th>Ml</th>\n",
       "      <th>Mw</th>\n",
       "      <th># Estaciones</th>\n",
       "      <th>RmsSeg</th>\n",
       "      <th>GapGrados</th>\n",
       "      <th>Error Latitud (Km)</th>\n",
       "      <th>Error Longitud (Km)</th>\n",
       "      <th>Error Profundidad (Km)</th>\n",
       "      <th>years</th>\n",
       "      <th>mes</th>\n",
       "    </tr>\n",
       "  </thead>\n",
       "  <tbody>\n",
       "    <tr>\n",
       "      <th>count</th>\n",
       "      <td>2773.000000</td>\n",
       "      <td>2773.000000</td>\n",
       "      <td>2773.000000</td>\n",
       "      <td>2773.000000</td>\n",
       "      <td>351.000000</td>\n",
       "      <td>2773.000000</td>\n",
       "      <td>2773.000000</td>\n",
       "      <td>2773.000000</td>\n",
       "      <td>2773.000000</td>\n",
       "      <td>2773.000000</td>\n",
       "      <td>2773.000000</td>\n",
       "      <td>2773.000000</td>\n",
       "      <td>2773.000000</td>\n",
       "    </tr>\n",
       "    <tr>\n",
       "      <th>mean</th>\n",
       "      <td>6.483482</td>\n",
       "      <td>-74.261139</td>\n",
       "      <td>105.933429</td>\n",
       "      <td>4.397512</td>\n",
       "      <td>4.506838</td>\n",
       "      <td>14.000000</td>\n",
       "      <td>0.779149</td>\n",
       "      <td>199.188604</td>\n",
       "      <td>12.802200</td>\n",
       "      <td>15.744140</td>\n",
       "      <td>21.314172</td>\n",
       "      <td>2002.423008</td>\n",
       "      <td>6.415435</td>\n",
       "    </tr>\n",
       "    <tr>\n",
       "      <th>std</th>\n",
       "      <td>1.889685</td>\n",
       "      <td>2.209637</td>\n",
       "      <td>75.565637</td>\n",
       "      <td>0.433655</td>\n",
       "      <td>0.486925</td>\n",
       "      <td>10.654654</td>\n",
       "      <td>0.471351</td>\n",
       "      <td>78.169203</td>\n",
       "      <td>16.313814</td>\n",
       "      <td>16.058257</td>\n",
       "      <td>23.337344</td>\n",
       "      <td>6.670584</td>\n",
       "      <td>3.405253</td>\n",
       "    </tr>\n",
       "    <tr>\n",
       "      <th>min</th>\n",
       "      <td>-3.483000</td>\n",
       "      <td>-89.024000</td>\n",
       "      <td>0.000000</td>\n",
       "      <td>4.000000</td>\n",
       "      <td>3.700000</td>\n",
       "      <td>0.000000</td>\n",
       "      <td>0.000000</td>\n",
       "      <td>0.000000</td>\n",
       "      <td>0.000000</td>\n",
       "      <td>0.000000</td>\n",
       "      <td>0.000000</td>\n",
       "      <td>1993.000000</td>\n",
       "      <td>1.000000</td>\n",
       "    </tr>\n",
       "    <tr>\n",
       "      <th>25%</th>\n",
       "      <td>6.645000</td>\n",
       "      <td>-75.262000</td>\n",
       "      <td>26.000000</td>\n",
       "      <td>4.100000</td>\n",
       "      <td>4.200000</td>\n",
       "      <td>9.000000</td>\n",
       "      <td>0.500000</td>\n",
       "      <td>150.000000</td>\n",
       "      <td>4.700000</td>\n",
       "      <td>6.700000</td>\n",
       "      <td>8.200000</td>\n",
       "      <td>1997.000000</td>\n",
       "      <td>3.000000</td>\n",
       "    </tr>\n",
       "    <tr>\n",
       "      <th>50%</th>\n",
       "      <td>6.812000</td>\n",
       "      <td>-73.132000</td>\n",
       "      <td>149.200000</td>\n",
       "      <td>4.300000</td>\n",
       "      <td>4.400000</td>\n",
       "      <td>11.000000</td>\n",
       "      <td>0.700000</td>\n",
       "      <td>189.000000</td>\n",
       "      <td>7.300000</td>\n",
       "      <td>11.600000</td>\n",
       "      <td>12.600000</td>\n",
       "      <td>2001.000000</td>\n",
       "      <td>6.000000</td>\n",
       "    </tr>\n",
       "    <tr>\n",
       "      <th>75%</th>\n",
       "      <td>6.866000</td>\n",
       "      <td>-73.053000</td>\n",
       "      <td>155.000000</td>\n",
       "      <td>4.600000</td>\n",
       "      <td>4.700000</td>\n",
       "      <td>14.000000</td>\n",
       "      <td>0.900000</td>\n",
       "      <td>272.000000</td>\n",
       "      <td>13.500000</td>\n",
       "      <td>17.400000</td>\n",
       "      <td>23.000000</td>\n",
       "      <td>2007.000000</td>\n",
       "      <td>9.000000</td>\n",
       "    </tr>\n",
       "    <tr>\n",
       "      <th>max</th>\n",
       "      <td>14.907000</td>\n",
       "      <td>-67.168000</td>\n",
       "      <td>700.000000</td>\n",
       "      <td>6.800000</td>\n",
       "      <td>7.100000</td>\n",
       "      <td>96.000000</td>\n",
       "      <td>8.200000</td>\n",
       "      <td>360.000000</td>\n",
       "      <td>99.900000</td>\n",
       "      <td>99.900000</td>\n",
       "      <td>99.900000</td>\n",
       "      <td>2017.000000</td>\n",
       "      <td>12.000000</td>\n",
       "    </tr>\n",
       "  </tbody>\n",
       "</table>\n",
       "</div>"
      ],
      "text/plain": [
       "              qlat         qlon       qdepth           Ml          Mw  \\\n",
       "count  2773.000000  2773.000000  2773.000000  2773.000000  351.000000   \n",
       "mean      6.483482   -74.261139   105.933429     4.397512    4.506838   \n",
       "std       1.889685     2.209637    75.565637     0.433655    0.486925   \n",
       "min      -3.483000   -89.024000     0.000000     4.000000    3.700000   \n",
       "25%       6.645000   -75.262000    26.000000     4.100000    4.200000   \n",
       "50%       6.812000   -73.132000   149.200000     4.300000    4.400000   \n",
       "75%       6.866000   -73.053000   155.000000     4.600000    4.700000   \n",
       "max      14.907000   -67.168000   700.000000     6.800000    7.100000   \n",
       "\n",
       "       # Estaciones       RmsSeg    GapGrados  Error Latitud (Km)  \\\n",
       "count   2773.000000  2773.000000  2773.000000         2773.000000   \n",
       "mean      14.000000     0.779149   199.188604           12.802200   \n",
       "std       10.654654     0.471351    78.169203           16.313814   \n",
       "min        0.000000     0.000000     0.000000            0.000000   \n",
       "25%        9.000000     0.500000   150.000000            4.700000   \n",
       "50%       11.000000     0.700000   189.000000            7.300000   \n",
       "75%       14.000000     0.900000   272.000000           13.500000   \n",
       "max       96.000000     8.200000   360.000000           99.900000   \n",
       "\n",
       "       Error Longitud (Km)  Error Profundidad (Km)        years          mes  \n",
       "count          2773.000000             2773.000000  2773.000000  2773.000000  \n",
       "mean             15.744140               21.314172  2002.423008     6.415435  \n",
       "std              16.058257               23.337344     6.670584     3.405253  \n",
       "min               0.000000                0.000000  1993.000000     1.000000  \n",
       "25%               6.700000                8.200000  1997.000000     3.000000  \n",
       "50%              11.600000               12.600000  2001.000000     6.000000  \n",
       "75%              17.400000               23.000000  2007.000000     9.000000  \n",
       "max              99.900000               99.900000  2017.000000    12.000000  "
      ]
     },
     "execution_count": 3,
     "metadata": {},
     "output_type": "execute_result"
    }
   ],
   "source": [
    "sismos.describe()"
   ]
  },
  {
   "cell_type": "markdown",
   "metadata": {},
   "source": [
    "### Por ejemplo basándonos solo en la profundidad de los sismos, observamos en la tabla que:"
   ]
  },
  {
   "cell_type": "code",
   "execution_count": 4,
   "metadata": {},
   "outputs": [
    {
     "name": "stdout",
     "output_type": "stream",
     "text": [
      "El promedio de profundidades de los sismos es: 105.933429499 \n",
      "\n",
      "La minima profundidad fue de 0.0 km\n",
      "La maxima profundidad fue de 700.0 km\n",
      "\n",
      "La variabilidad de las profundidades con respecto al promedio es de 75.565637187 km\n",
      "\n",
      "El 25% de las profundidades se encuentra entre 26.0 km\n",
      "El 50% de las profundidades se encuentra entre 149.2 km\n",
      "El 75% de las profundidades se encuentra entre 155.0 km\n",
      "\n",
      "Estos fueron los sismos con mayor profundidad;\n"
     ]
    },
    {
     "data": {
      "text/html": [
       "<div>\n",
       "<style>\n",
       "    .dataframe thead tr:only-child th {\n",
       "        text-align: right;\n",
       "    }\n",
       "\n",
       "    .dataframe thead th {\n",
       "        text-align: left;\n",
       "    }\n",
       "\n",
       "    .dataframe tbody tr th {\n",
       "        vertical-align: top;\n",
       "    }\n",
       "</style>\n",
       "<table border=\"1\" class=\"dataframe\">\n",
       "  <thead>\n",
       "    <tr style=\"text-align: right;\">\n",
       "      <th></th>\n",
       "      <th>Fecha</th>\n",
       "      <th>Hora</th>\n",
       "      <th>qlat</th>\n",
       "      <th>qlon</th>\n",
       "      <th>qdepth</th>\n",
       "      <th>Ml</th>\n",
       "      <th>Mw</th>\n",
       "      <th>Departamento</th>\n",
       "      <th>Municipio</th>\n",
       "      <th># Estaciones</th>\n",
       "      <th>RmsSeg</th>\n",
       "      <th>GapGrados</th>\n",
       "      <th>Error Latitud (Km)</th>\n",
       "      <th>Error Longitud (Km)</th>\n",
       "      <th>Error Profundidad (Km)</th>\n",
       "      <th>Estado</th>\n",
       "      <th>fechas</th>\n",
       "      <th>years</th>\n",
       "      <th>mes</th>\n",
       "    </tr>\n",
       "  </thead>\n",
       "  <tbody>\n",
       "    <tr>\n",
       "      <th>576</th>\n",
       "      <td>1996-07-08</td>\n",
       "      <td>11:58:47</td>\n",
       "      <td>5.678</td>\n",
       "      <td>-75.086</td>\n",
       "      <td>700.0</td>\n",
       "      <td>4.4</td>\n",
       "      <td>NaN</td>\n",
       "      <td>ANTIOQUIA</td>\n",
       "      <td>ARGELIA</td>\n",
       "      <td>7</td>\n",
       "      <td>4.3</td>\n",
       "      <td>137</td>\n",
       "      <td>11.1</td>\n",
       "      <td>23.8</td>\n",
       "      <td>99.9</td>\n",
       "      <td>Revisado</td>\n",
       "      <td>1996-07-08 11:58:47</td>\n",
       "      <td>1996</td>\n",
       "      <td>7</td>\n",
       "    </tr>\n",
       "    <tr>\n",
       "      <th>826</th>\n",
       "      <td>1998-05-13</td>\n",
       "      <td>23:19:36</td>\n",
       "      <td>3.839</td>\n",
       "      <td>-75.915</td>\n",
       "      <td>700.0</td>\n",
       "      <td>4.3</td>\n",
       "      <td>NaN</td>\n",
       "      <td>TOLIMA</td>\n",
       "      <td>RONCESVALLES</td>\n",
       "      <td>6</td>\n",
       "      <td>4.4</td>\n",
       "      <td>134</td>\n",
       "      <td>46.8</td>\n",
       "      <td>41.9</td>\n",
       "      <td>99.9</td>\n",
       "      <td>Revisado</td>\n",
       "      <td>1998-05-13 23:19:36</td>\n",
       "      <td>1998</td>\n",
       "      <td>5</td>\n",
       "    </tr>\n",
       "    <tr>\n",
       "      <th>835</th>\n",
       "      <td>1998-05-22</td>\n",
       "      <td>04:38:55</td>\n",
       "      <td>1.598</td>\n",
       "      <td>-72.293</td>\n",
       "      <td>700.0</td>\n",
       "      <td>4.8</td>\n",
       "      <td>NaN</td>\n",
       "      <td>GUAVIARE</td>\n",
       "      <td>MIRAFLORES</td>\n",
       "      <td>11</td>\n",
       "      <td>3.4</td>\n",
       "      <td>308</td>\n",
       "      <td>27.0</td>\n",
       "      <td>92.4</td>\n",
       "      <td>99.9</td>\n",
       "      <td>Revisado</td>\n",
       "      <td>1998-05-22 04:38:55</td>\n",
       "      <td>1998</td>\n",
       "      <td>5</td>\n",
       "    </tr>\n",
       "    <tr>\n",
       "      <th>836</th>\n",
       "      <td>1998-05-22</td>\n",
       "      <td>04:51:52</td>\n",
       "      <td>2.375</td>\n",
       "      <td>-72.452</td>\n",
       "      <td>700.0</td>\n",
       "      <td>6.5</td>\n",
       "      <td>NaN</td>\n",
       "      <td>GUAVIARE</td>\n",
       "      <td>SAN_JOSE_DEL_GUAVIARE</td>\n",
       "      <td>11</td>\n",
       "      <td>4.5</td>\n",
       "      <td>313</td>\n",
       "      <td>25.9</td>\n",
       "      <td>23.0</td>\n",
       "      <td>12.5</td>\n",
       "      <td>Revisado</td>\n",
       "      <td>1998-05-22 04:51:52</td>\n",
       "      <td>1998</td>\n",
       "      <td>5</td>\n",
       "    </tr>\n",
       "    <tr>\n",
       "      <th>837</th>\n",
       "      <td>1998-05-22</td>\n",
       "      <td>06:20:06</td>\n",
       "      <td>-2.234</td>\n",
       "      <td>-71.957</td>\n",
       "      <td>700.0</td>\n",
       "      <td>5.1</td>\n",
       "      <td>NaN</td>\n",
       "      <td>AMAZONAS</td>\n",
       "      <td>LA_CHORRERA</td>\n",
       "      <td>9</td>\n",
       "      <td>1.9</td>\n",
       "      <td>314</td>\n",
       "      <td>0.1</td>\n",
       "      <td>37.4</td>\n",
       "      <td>68.0</td>\n",
       "      <td>Revisado</td>\n",
       "      <td>1998-05-22 06:20:06</td>\n",
       "      <td>1998</td>\n",
       "      <td>5</td>\n",
       "    </tr>\n",
       "    <tr>\n",
       "      <th>838</th>\n",
       "      <td>1998-05-22</td>\n",
       "      <td>07:21:15</td>\n",
       "      <td>-1.886</td>\n",
       "      <td>-71.964</td>\n",
       "      <td>700.0</td>\n",
       "      <td>4.5</td>\n",
       "      <td>NaN</td>\n",
       "      <td>AMAZONAS</td>\n",
       "      <td>LA_CHORRERA</td>\n",
       "      <td>10</td>\n",
       "      <td>2.6</td>\n",
       "      <td>312</td>\n",
       "      <td>94.1</td>\n",
       "      <td>26.9</td>\n",
       "      <td>31.2</td>\n",
       "      <td>Revisado</td>\n",
       "      <td>1998-05-22 07:21:15</td>\n",
       "      <td>1998</td>\n",
       "      <td>5</td>\n",
       "    </tr>\n",
       "    <tr>\n",
       "      <th>839</th>\n",
       "      <td>1998-05-23</td>\n",
       "      <td>12:56:07</td>\n",
       "      <td>-1.671</td>\n",
       "      <td>-72.789</td>\n",
       "      <td>700.0</td>\n",
       "      <td>4.6</td>\n",
       "      <td>NaN</td>\n",
       "      <td>AMAZONAS</td>\n",
       "      <td>LA_CHORRERA</td>\n",
       "      <td>8</td>\n",
       "      <td>1.9</td>\n",
       "      <td>309</td>\n",
       "      <td>92.0</td>\n",
       "      <td>22.4</td>\n",
       "      <td>99.9</td>\n",
       "      <td>Revisado</td>\n",
       "      <td>1998-05-23 12:56:07</td>\n",
       "      <td>1998</td>\n",
       "      <td>5</td>\n",
       "    </tr>\n",
       "    <tr>\n",
       "      <th>840</th>\n",
       "      <td>1998-05-23</td>\n",
       "      <td>18:01:58</td>\n",
       "      <td>5.117</td>\n",
       "      <td>-75.879</td>\n",
       "      <td>700.0</td>\n",
       "      <td>4.4</td>\n",
       "      <td>NaN</td>\n",
       "      <td>RISARALDA</td>\n",
       "      <td>APIA</td>\n",
       "      <td>10</td>\n",
       "      <td>4.7</td>\n",
       "      <td>106</td>\n",
       "      <td>73.2</td>\n",
       "      <td>48.5</td>\n",
       "      <td>64.1</td>\n",
       "      <td>Revisado</td>\n",
       "      <td>1998-05-23 18:01:58</td>\n",
       "      <td>1998</td>\n",
       "      <td>5</td>\n",
       "    </tr>\n",
       "    <tr>\n",
       "      <th>860</th>\n",
       "      <td>1998-06-23</td>\n",
       "      <td>11:03:37</td>\n",
       "      <td>7.814</td>\n",
       "      <td>-70.686</td>\n",
       "      <td>700.0</td>\n",
       "      <td>4.1</td>\n",
       "      <td>NaN</td>\n",
       "      <td>ARAUCA</td>\n",
       "      <td>ARAUCA</td>\n",
       "      <td>10</td>\n",
       "      <td>2.4</td>\n",
       "      <td>299</td>\n",
       "      <td>11.6</td>\n",
       "      <td>66.1</td>\n",
       "      <td>42.3</td>\n",
       "      <td>Revisado</td>\n",
       "      <td>1998-06-23 11:03:37</td>\n",
       "      <td>1998</td>\n",
       "      <td>6</td>\n",
       "    </tr>\n",
       "  </tbody>\n",
       "</table>\n",
       "</div>"
      ],
      "text/plain": [
       "          Fecha      Hora   qlat    qlon  qdepth   Ml  Mw Departamento  \\\n",
       "576  1996-07-08  11:58:47  5.678 -75.086   700.0  4.4 NaN    ANTIOQUIA   \n",
       "826  1998-05-13  23:19:36  3.839 -75.915   700.0  4.3 NaN       TOLIMA   \n",
       "835  1998-05-22  04:38:55  1.598 -72.293   700.0  4.8 NaN     GUAVIARE   \n",
       "836  1998-05-22  04:51:52  2.375 -72.452   700.0  6.5 NaN     GUAVIARE   \n",
       "837  1998-05-22  06:20:06 -2.234 -71.957   700.0  5.1 NaN     AMAZONAS   \n",
       "838  1998-05-22  07:21:15 -1.886 -71.964   700.0  4.5 NaN     AMAZONAS   \n",
       "839  1998-05-23  12:56:07 -1.671 -72.789   700.0  4.6 NaN     AMAZONAS   \n",
       "840  1998-05-23  18:01:58  5.117 -75.879   700.0  4.4 NaN    RISARALDA   \n",
       "860  1998-06-23  11:03:37  7.814 -70.686   700.0  4.1 NaN       ARAUCA   \n",
       "\n",
       "                 Municipio  # Estaciones  RmsSeg  GapGrados  \\\n",
       "576                ARGELIA             7     4.3        137   \n",
       "826           RONCESVALLES             6     4.4        134   \n",
       "835             MIRAFLORES            11     3.4        308   \n",
       "836  SAN_JOSE_DEL_GUAVIARE            11     4.5        313   \n",
       "837            LA_CHORRERA             9     1.9        314   \n",
       "838            LA_CHORRERA            10     2.6        312   \n",
       "839            LA_CHORRERA             8     1.9        309   \n",
       "840                   APIA            10     4.7        106   \n",
       "860                 ARAUCA            10     2.4        299   \n",
       "\n",
       "     Error Latitud (Km)  Error Longitud (Km)  Error Profundidad (Km)  \\\n",
       "576                11.1                 23.8                    99.9   \n",
       "826                46.8                 41.9                    99.9   \n",
       "835                27.0                 92.4                    99.9   \n",
       "836                25.9                 23.0                    12.5   \n",
       "837                 0.1                 37.4                    68.0   \n",
       "838                94.1                 26.9                    31.2   \n",
       "839                92.0                 22.4                    99.9   \n",
       "840                73.2                 48.5                    64.1   \n",
       "860                11.6                 66.1                    42.3   \n",
       "\n",
       "       Estado              fechas  years  mes  \n",
       "576  Revisado 1996-07-08 11:58:47   1996    7  \n",
       "826  Revisado 1998-05-13 23:19:36   1998    5  \n",
       "835  Revisado 1998-05-22 04:38:55   1998    5  \n",
       "836  Revisado 1998-05-22 04:51:52   1998    5  \n",
       "837  Revisado 1998-05-22 06:20:06   1998    5  \n",
       "838  Revisado 1998-05-22 07:21:15   1998    5  \n",
       "839  Revisado 1998-05-23 12:56:07   1998    5  \n",
       "840  Revisado 1998-05-23 18:01:58   1998    5  \n",
       "860  Revisado 1998-06-23 11:03:37   1998    6  "
      ]
     },
     "execution_count": 4,
     "metadata": {},
     "output_type": "execute_result"
    }
   ],
   "source": [
    "print(\"El promedio de profundidades de los sismos es:\", sismos.qdepth.mean(), '\\n')\n",
    "\n",
    "print(\"La minima profundidad fue de\", sismos.qdepth.min(), 'km')\n",
    "print(\"La maxima profundidad fue de\", sismos.qdepth.max(), 'km\\n')\n",
    "\n",
    "print(\"La variabilidad de las profundidades con respecto al promedio es de\", sismos.qdepth.std(), 'km\\n')\n",
    "\n",
    "print(\"El 25% de las profundidades se encuentra entre\", sismos.qdepth.quantile(0.25), 'km')\n",
    "print(\"El 50% de las profundidades se encuentra entre\", sismos.qdepth.quantile(0.5), 'km')\n",
    "print(\"El 75% de las profundidades se encuentra entre\", sismos.qdepth.quantile(0.75), 'km\\n')\n",
    "\n",
    "print(\"Estos fueron los sismos con mayor profundidad;\")\n",
    "sismos[sismos.qdepth==700]"
   ]
  },
  {
   "cell_type": "code",
   "execution_count": 5,
   "metadata": {},
   "outputs": [
    {
     "data": {
      "text/plain": [
       "Text(0.5,1,'Analisis de la profundidad de los sismos')"
      ]
     },
     "execution_count": 5,
     "metadata": {},
     "output_type": "execute_result"
    },
    {
     "data": {
      "image/png": "[encoded data removed]",
      "text/plain": [
       "<matplotlib.figure.Figure at 0x7f522865e828>"
      ]
     },
     "metadata": {},
     "output_type": "display_data"
    }
   ],
   "source": [
    "fig = plt.figure(figsize=(9, 4))\n",
    "ax = fig.gca()\n",
    "bp = ax.boxplot(sismos.qdepth, sym='bo', whis=1.50, vert=False)\n",
    "for flier in bp['fliers']:\n",
    "    flier.set(alpha=0.6)\n",
    "ax.set_title(\"Analisis de la profundidad de los sismos\", fontsize=15)"
   ]
  },
  {
   "cell_type": "markdown",
   "metadata": {},
   "source": [
    "### Ahora observamos un análisis estadístico del número de sismos por departamentos."
   ]
  },
  {
   "cell_type": "code",
   "execution_count": 6,
   "metadata": {
    "scrolled": true
   },
   "outputs": [
    {
     "name": "stdout",
     "output_type": "stream",
     "text": [
      "count      31.000000\n",
      "mean       89.451613\n",
      "std       289.303282\n",
      "min         1.000000\n",
      "25%         6.500000\n",
      "50%        26.000000\n",
      "75%        48.000000\n",
      "max      1625.000000\n",
      "Name: numeros_sismos, dtype: float64 \n",
      "\n",
      "El departamento con más sismos registrados es:\n"
     ]
    },
    {
     "data": {
      "text/html": [
       "<div>\n",
       "<style>\n",
       "    .dataframe thead tr:only-child th {\n",
       "        text-align: right;\n",
       "    }\n",
       "\n",
       "    .dataframe thead th {\n",
       "        text-align: left;\n",
       "    }\n",
       "\n",
       "    .dataframe tbody tr th {\n",
       "        vertical-align: top;\n",
       "    }\n",
       "</style>\n",
       "<table border=\"1\" class=\"dataframe\">\n",
       "  <thead>\n",
       "    <tr style=\"text-align: right;\">\n",
       "      <th></th>\n",
       "      <th>departamentos</th>\n",
       "      <th>numeros_sismos</th>\n",
       "    </tr>\n",
       "  </thead>\n",
       "  <tbody>\n",
       "    <tr>\n",
       "      <th>0</th>\n",
       "      <td>SANTANDER</td>\n",
       "      <td>1625</td>\n",
       "    </tr>\n",
       "  </tbody>\n",
       "</table>\n",
       "</div>"
      ],
      "text/plain": [
       "  departamentos  numeros_sismos\n",
       "0     SANTANDER            1625"
      ]
     },
     "execution_count": 6,
     "metadata": {},
     "output_type": "execute_result"
    }
   ],
   "source": [
    "Departamentos = pd.Series([sismos[\"Departamento\"]])\n",
    "\n",
    "Fi = Departamentos[0].value_counts() # Frecuencia absoluta de los departamentos.\n",
    "Di = Fi.index # Nombre de los departamentos.\n",
    "\n",
    "Departamentos = pd.DataFrame(dict(departamentos=Di,numeros_sismos=Fi.values),\n",
    "                        columns=[\"departamentos\",\"numeros_sismos\"])\n",
    "\n",
    "print(Departamentos.numeros_sismos.describe(), '\\n')\n",
    "\n",
    "print(\"El departamento con más sismos registrados es:\")\n",
    "Departamentos[Departamentos.numeros_sismos==Departamentos.numeros_sismos.max()]"
   ]
  },
  {
   "cell_type": "code",
   "execution_count": 7,
   "metadata": {},
   "outputs": [
    {
     "data": {
      "image/png": "[encoded data removed]",
      "text/plain": [
       "<matplotlib.figure.Figure at 0x7f522872dda0>"
      ]
     },
     "metadata": {},
     "output_type": "display_data"
    }
   ],
   "source": [
    "fig=plt.figure(figsize=(10,5))\n",
    "ax=fig.gca()\n",
    "ax.bar(Departamentos.index, Departamentos.numeros_sismos, color='b')\n",
    "ax.set_xticks(np.arange(30))\n",
    "Dep = Departamentos.departamentos.values\n",
    "Dep[28] = 'SAN ANDRES. PROV'\n",
    "ax.set_xticklabels(Dep,rotation=90)\n",
    "ax.set_title(\"CANTIDAD DE SISMOS POR DEPARTAMENTOS\", fontsize=14)\n",
    "ax.set_ylabel(\"Número de sismos\")\n",
    "ax.grid(linestyle='--', linewidth=0.7)"
   ]
  },
  {
   "cell_type": "markdown",
   "metadata": {},
   "source": [
    "### Ahora observamos un análisis estadístico del número de sismos por año"
   ]
  },
  {
   "cell_type": "code",
   "execution_count": 8,
   "metadata": {},
   "outputs": [
    {
     "name": "stdout",
     "output_type": "stream",
     "text": [
      "count     25.000000\n",
      "mean     110.920000\n",
      "std       55.409777\n",
      "min       52.000000\n",
      "25%       66.000000\n",
      "50%      104.000000\n",
      "75%      121.000000\n",
      "max      269.000000\n",
      "Name: numeros_sismos, dtype: float64 \n",
      "\n",
      "El anio con más sismos registrados es:\n"
     ]
    },
    {
     "data": {
      "text/html": [
       "<div>\n",
       "<style>\n",
       "    .dataframe thead tr:only-child th {\n",
       "        text-align: right;\n",
       "    }\n",
       "\n",
       "    .dataframe thead th {\n",
       "        text-align: left;\n",
       "    }\n",
       "\n",
       "    .dataframe tbody tr th {\n",
       "        vertical-align: top;\n",
       "    }\n",
       "</style>\n",
       "<table border=\"1\" class=\"dataframe\">\n",
       "  <thead>\n",
       "    <tr style=\"text-align: right;\">\n",
       "      <th></th>\n",
       "      <th>years</th>\n",
       "      <th>numeros_sismos</th>\n",
       "    </tr>\n",
       "  </thead>\n",
       "  <tbody>\n",
       "    <tr>\n",
       "      <th>0</th>\n",
       "      <td>2000</td>\n",
       "      <td>269</td>\n",
       "    </tr>\n",
       "  </tbody>\n",
       "</table>\n",
       "</div>"
      ],
      "text/plain": [
       "   years  numeros_sismos\n",
       "0   2000             269"
      ]
     },
     "execution_count": 8,
     "metadata": {},
     "output_type": "execute_result"
    }
   ],
   "source": [
    "Anios = pd.Series([sismos[\"years\"]])\n",
    "\n",
    "Fi = Anios[0].value_counts() # Frecuencia absoluta de los anios.\n",
    "Di = Fi.index # Nombre de los anios.\n",
    "\n",
    "Anios = pd.DataFrame(dict(years=Di,numeros_sismos=Fi.values),\n",
    "                        columns=[\"years\",\"numeros_sismos\"])\n",
    "\n",
    "print(Anios.numeros_sismos.describe(), '\\n')\n",
    "\n",
    "print(\"El anio con más sismos registrados es:\")\n",
    "Anios[Anios.numeros_sismos==Anios.numeros_sismos.max()]"
   ]
  },
  {
   "cell_type": "code",
   "execution_count": 9,
   "metadata": {},
   "outputs": [
    {
     "data": {
      "image/png": "[encoded data removed]",
      "text/plain": [
       "<matplotlib.figure.Figure at 0x7f5225edfc50>"
      ]
     },
     "metadata": {},
     "output_type": "display_data"
    }
   ],
   "source": [
    "fig=plt.figure(figsize=(10,5))\n",
    "ax=fig.gca()\n",
    "Anios=Anios.sort_values(['years'])\n",
    "Anios=Anios.reset_index()\n",
    "ax.bar(Anios.index, Anios.numeros_sismos, color='b')\n",
    "ax.set_xticks(np.arange(30))\n",
    "Anio = Anios.years.values\n",
    "ax.set_xticklabels(Anio,rotation=90)\n",
    "ax.set_title(\"CANTIDAD DE SISMOS POR DEPARTAMENTOS\", fontsize=14)\n",
    "ax.set_ylabel(\"Número de sismos\")\n",
    "ax.grid(linestyle='--', linewidth=0.7)"
   ]
  },
  {
   "cell_type": "markdown",
   "metadata": {},
   "source": [
    "# PROBABILIDADES"
   ]
  },
  {
   "cell_type": "code",
   "execution_count": 10,
   "metadata": {},
   "outputs": [
    {
     "data": {
      "text/plain": [
       "[<matplotlib.lines.Line2D at 0x7f5225db39b0>]"
      ]
     },
     "execution_count": 10,
     "metadata": {},
     "output_type": "execute_result"
    },
    {
     "data": {
      "image/png": "[encoded data removed]",
      "text/plain": [
       "<matplotlib.figure.Figure at 0x7f5225ee5588>"
      ]
     },
     "metadata": {},
     "output_type": "display_data"
    }
   ],
   "source": [
    "# Histograma\n",
    "fig = plt.figure(figsize=(8,6))\n",
    "ax = fig.gca()\n",
    "Ml = sismos.Ml\n",
    "f,Mi=np.histogram(Ml,300)\n",
    "Mm=(Mi[:-1]+Mi[1:])/2\n",
    "ax.set_title(\"HISTOGRAMA\")\n",
    "ax.set_xlabel(\"Magnitud de sismos\")\n",
    "ax.set_ylabel(\"Cantidad de sismos\")\n",
    "\n",
    "plt.plot(Mm,f,'bo')"
   ]
  },
  {
   "cell_type": "code",
   "execution_count": 11,
   "metadata": {},
   "outputs": [
    {
     "data": {
      "text/plain": [
       "[<matplotlib.lines.Line2D at 0x7f5225d93390>]"
      ]
     },
     "execution_count": 11,
     "metadata": {},
     "output_type": "execute_result"
    },
    {
     "data": {
      "image/png": "[encoded data removed]",
      "text/plain": [
       "<matplotlib.figure.Figure at 0x7f5225ee5908>"
      ]
     },
     "metadata": {},
     "output_type": "display_data"
    }
   ],
   "source": [
    "# Funcion de densidad de probabilidad.\n",
    "fig = plt.figure(figsize=(8,6))\n",
    "ax = fig.gca()\n",
    "ax.set_title(\"FUNCION DE DENSIDAD DE PROBABILIDAD\")\n",
    "ax.set_xlabel(\"Magnitud de sismos\")\n",
    "ax.set_ylabel(\"Probabilidad\")\n",
    "N = len(Ml)\n",
    "dM=Mi[1]-Mi[0]\n",
    "p=f/(N*dM)\n",
    "ax.plot(Mm,p/100, 'b')\n"
   ]
  },
  {
   "cell_type": "code",
   "execution_count": 12,
   "metadata": {},
   "outputs": [
    {
     "data": {
      "image/png": "[encoded data removed]",
      "text/plain": [
       "<matplotlib.figure.Figure at 0x7f52287b2f98>"
      ]
     },
     "metadata": {},
     "output_type": "display_data"
    }
   ],
   "source": [
    "#Estimar la funcion cumulativa de probabilidad\n",
    "fig = plt.figure(figsize=(8,6))\n",
    "ax = fig.gca()\n",
    "ax.set_title(\"FUNCION DE DENSIDAD DE PROBABILIDAD ACUMULADA\")\n",
    "ax.set_xlabel(\"Magnitud de sismos\")\n",
    "ax.set_ylabel(\"Probabilidad acumulada\")\n",
    "P=np.cumsum(p)*dM\n",
    "ax.plot(Mm,P)\n",
    "ax.grid(linestyle='--', linewidth=0.7)"
   ]
  },
  {
   "cell_type": "markdown",
   "metadata": {},
   "source": [
    "# DESCRIPCIÓN GRÁFICAS\n",
    "\n",
    "A continuación por medio de gráficas se demuestran los resultados de los análisis estadísticos anteriores.\n",
    "\n",
    "En el caso de no reproducirse las figuras, se encuentran en youtube y los links se verán después de cada título."
   ]
  },
  {
   "cell_type": "code",
   "execution_count": 5,
   "metadata": {
    "collapsed": true
   },
   "outputs": [],
   "source": [
    "# Esta es una funcion que permite visualizar los gifs en Jupyter Notebook.\n",
    "def display_gif(fn):\n",
    "    from IPython import display\n",
    "    return display.HTML('<img src=\"{}\">'.format(fn))"
   ]
  },
  {
   "cell_type": "markdown",
   "metadata": {},
   "source": [
    "## Gráfica 1\n",
    "https://youtu.be/PWLX1q-8HEU"
   ]
  },
  {
   "cell_type": "markdown",
   "metadata": {},
   "source": [
    "+ ### Gráfica 1.1: Sismos en coordenadas polares.\n",
    "https://youtu.be/a3qMOhNWet8"
   ]
  },
  {
   "cell_type": "markdown",
   "metadata": {},
   "source": [
    "Esta gráfica en coordenadas polares verifica que el año con mayor números de sismos con magnitud superior a 4.0 es el 2000."
   ]
  },
  {
   "cell_type": "code",
   "execution_count": 9,
   "metadata": {},
   "outputs": [
    {
     "data": {
      "text/html": [
       "<img src=\"Figura1.gif\">"
      ],
      "text/plain": [
       "<IPython.core.display.HTML object>"
      ]
     },
     "execution_count": 9,
     "metadata": {},
     "output_type": "execute_result"
    }
   ],
   "source": [
    "display_gif(\"Figura1.gif\")"
   ]
  },
  {
   "cell_type": "markdown",
   "metadata": {},
   "source": [
    "+ ### Gráfica 1.2: Mapa de sismos.\n",
    "https://youtu.be/6RAFnf55Ab8"
   ]
  },
  {
   "cell_type": "markdown",
   "metadata": {},
   "source": [
    "Este mapa permite verificar quela mayoría de los sismos se presentan en Santander."
   ]
  },
  {
   "cell_type": "markdown",
   "metadata": {},
   "source": [
    "+ ### Gráfica 1.3: Mapa de sismos.\n",
    "https://youtu.be/6MEuY4HiAoc"
   ]
  },
  {
   "cell_type": "markdown",
   "metadata": {},
   "source": [
    "Esta gráfica permite establecer una relación entre la magnitud y la profundidad de los sismos, además es posible comprender mejor el análisis descriptivo de dichas magnitudes."
   ]
  },
  {
   "cell_type": "code",
   "execution_count": 29,
   "metadata": {},
   "outputs": [
    {
     "data": {
      "text/plain": [
       "Text(0,0.5,'Profundidad')"
      ]
     },
     "execution_count": 29,
     "metadata": {},
     "output_type": "execute_result"
    },
    {
     "data": {
      "image/png": "[encoded data removed]",
      "text/plain": [
       "<matplotlib.figure.Figure at 0x7f522579e780>"
      ]
     },
     "metadata": {},
     "output_type": "display_data"
    }
   ],
   "source": [
    "nmin, nmax = sismos.Ml.min(), sismos.Ml.max()\n",
    "pmin, pmax = sismos.qdepth.min(), sismos.qdepth.max()\n",
    "\n",
    "Magn = np.linspace(nmin, nmax, 20)\n",
    "Prof = np.linspace(pmin, pmax, 20)\n",
    "\n",
    "M, P =np.meshgrid(Magn,Prof)\n",
    "\n",
    "histogram2d=np.zeros_like(P)\n",
    "\n",
    "for i in range(len(Magn)-1):\n",
    "    for j in range(len(Prof)-1):\n",
    "        cond1 = (sismos['Ml']>Magn[i])\n",
    "        cond2 = (sismos['Ml']<Magn[i+1])\n",
    "        cond3 = (sismos['qdepth']>Prof[j])\n",
    "        cond4 = (sismos['qdepth']<Prof[j+1])\n",
    "        S = sismos[cond1 & cond2 & cond3 & cond4]\n",
    "        histogram2d[i,j]=len(S)\n",
    "        \n",
    "fig = plt.figure(figsize=(10,7))\n",
    "ax=fig.gca()\n",
    "c = ax.contourf(M, P, histogram2d)\n",
    "fig.colorbar(c, label='Cantidad de sismos')\n",
    "ax.set_xlim(4,4.8)\n",
    "ax.set_ylim(0, 250)\n",
    "ax.set_xlabel(\"Magnitud\", fontsize=12)\n",
    "ax.set_ylabel(\"Profundidad\", fontsize=12)"
   ]
  },
  {
   "cell_type": "code",
   "execution_count": null,
   "metadata": {
    "collapsed": true
   },
   "outputs": [],
   "source": []
  }
 ],
 "metadata": {
  "kernelspec": {
   "display_name": "Python 2",
   "language": "python",
   "name": "python2"
  },
  "language_info": {
   "codemirror_mode": {
    "name": "ipython",
    "version": 3
   },
   "file_extension": ".py",
   "mimetype": "text/x-python",
   "name": "python",
   "nbconvert_exporter": "python",
   "pygments_lexer": "ipython3",
   "version": "3.6.3"
  }
 },
 "nbformat": 4,
 "nbformat_minor": 2
}
